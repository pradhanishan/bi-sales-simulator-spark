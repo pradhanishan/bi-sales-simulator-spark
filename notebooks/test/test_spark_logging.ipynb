{
 "cells": [
  {
   "cell_type": "code",
   "execution_count": 1,
   "id": "40431300",
   "metadata": {},
   "outputs": [],
   "source": [
    "from session_manager.spark_session import SparkSessionFactory\n",
    "from log_manager.logger import Log4J"
   ]
  },
  {
   "cell_type": "code",
   "execution_count": 2,
   "id": "482eae08",
   "metadata": {},
   "outputs": [
    {
     "name": "stdout",
     "output_type": "stream",
     "text": [
      "📁 Project root: /Users/ipradhan/Projects/bi-sales-simulator-spark\n",
      "📄 Log4J config path: /Users/ipradhan/Projects/bi-sales-simulator-spark/log4j.properties\n",
      "📂 Logs directory: /Users/ipradhan/Projects/bi-sales-simulator-spark/logs\n"
     ]
    },
    {
     "name": "stderr",
     "output_type": "stream",
     "text": [
      "WARNING: Using incubator modules: jdk.incubator.vector\n"
     ]
    },
    {
     "name": "stdout",
     "output_type": "stream",
     "text": [
      "20:08:00 WARN  Utils - Your hostname, Ishans-MacBook-Pro.local, resolves to a loopback address: 127.0.0.1; using 192.168.1.104 instead (on interface en0)\n",
      "20:08:00 WARN  Utils - Set SPARK_LOCAL_IP if you need to bind to another address\n",
      "20:08:00 WARN  NativeCodeLoader - Unable to load native-hadoop library for your platform... using builtin-java classes where applicable\n"
     ]
    }
   ],
   "source": [
    "spark = SparkSessionFactory().get_or_create_spark_session()\n",
    "logger = Log4J(spark=spark)"
   ]
  },
  {
   "cell_type": "code",
   "execution_count": 3,
   "id": "de1c2fca",
   "metadata": {},
   "outputs": [],
   "source": [
    "appenders = logger.logger.getAllAppenders()\n",
    "while appenders.hasMoreElements():\n",
    "    appender = appenders.nextElement()\n",
    "    print(f\"🔹 Appender: {appender.getName()}\")\n",
    "    print(f\"   Class: {appender.getClass().getName()}\")\n",
    "    if hasattr(appender, \"getFile\"):\n",
    "        try:\n",
    "            print(f\"   File: {appender.getFile()}\")\n",
    "        except:\n",
    "            print(\"   (No file output — probably not a FileAppender)\")\n"
   ]
  },
  {
   "cell_type": "code",
   "execution_count": 4,
   "id": "0137be11",
   "metadata": {},
   "outputs": [
    {
     "name": "stdout",
     "output_type": "stream",
     "text": [
      "🔸 Logger name: bi.application.bi_sales_simulator\n",
      "🔸 Logger level: WARN\n"
     ]
    }
   ],
   "source": [
    "print(\"🔸 Logger name:\", logger.logger.getName())\n",
    "print(\"🔸 Logger level:\", logger.logger.getLevel())\n"
   ]
  },
  {
   "cell_type": "markdown",
   "id": "4fe90e58",
   "metadata": {},
   "source": []
  },
  {
   "cell_type": "code",
   "execution_count": 5,
   "id": "f32dbed1",
   "metadata": {},
   "outputs": [],
   "source": [
    "logger.info(\"ℹ️ Test Log - INFO\")\n",
    "logger.warn(\"⚠️ Test Log - WARN\")\n",
    "logger.error(\"❌ Test Log - ERROR\")\n",
    "logger.debug(\"🔍 Test Log - DEBUG\")"
   ]
  },
  {
   "cell_type": "code",
   "execution_count": 6,
   "id": "deba607f",
   "metadata": {},
   "outputs": [
    {
     "name": "stdout",
     "output_type": "stream",
     "text": [
      "+---+\n",
      "| id|\n",
      "+---+\n",
      "|  0|\n",
      "|  1|\n",
      "|  2|\n",
      "|  3|\n",
      "|  4|\n",
      "+---+\n",
      "\n"
     ]
    }
   ],
   "source": [
    "spark.range(5).show()"
   ]
  },
  {
   "cell_type": "code",
   "execution_count": 7,
   "id": "ec610ba2",
   "metadata": {},
   "outputs": [],
   "source": [
    "spark.stop()"
   ]
  }
 ],
 "metadata": {
  "kernelspec": {
   "display_name": ".venv",
   "language": "python",
   "name": "python3"
  },
  "language_info": {
   "codemirror_mode": {
    "name": "ipython",
    "version": 3
   },
   "file_extension": ".py",
   "mimetype": "text/x-python",
   "name": "python",
   "nbconvert_exporter": "python",
   "pygments_lexer": "ipython3",
   "version": "3.13.5"
  }
 },
 "nbformat": 4,
 "nbformat_minor": 5
}
