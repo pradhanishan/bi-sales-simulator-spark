{
 "cells": [
  {
   "cell_type": "code",
   "execution_count": null,
   "id": "40431300",
   "metadata": {},
   "outputs": [],
   "source": [
    "from session_manager.spark_session import SparkSessionFactory"
   ]
  },
  {
   "cell_type": "code",
   "execution_count": null,
   "id": "482eae08",
   "metadata": {},
   "outputs": [],
   "source": [
    "spark = SparkSessionFactory().get_or_create_spark_session()"
   ]
  },
  {
   "cell_type": "code",
   "execution_count": null,
   "id": "deba607f",
   "metadata": {},
   "outputs": [],
   "source": [
    "spark.range(5).show()"
   ]
  },
  {
   "cell_type": "code",
   "execution_count": null,
   "id": "ec610ba2",
   "metadata": {},
   "outputs": [],
   "source": [
    "spark.stop()"
   ]
  }
 ],
 "metadata": {
  "kernelspec": {
   "display_name": ".venv",
   "language": "python",
   "name": "python3"
  },
  "language_info": {
   "codemirror_mode": {
    "name": "ipython",
    "version": 3
   },
   "file_extension": ".py",
   "mimetype": "text/x-python",
   "name": "python",
   "nbconvert_exporter": "python",
   "pygments_lexer": "ipython3",
   "version": "3.13.5"
  }
 },
 "nbformat": 4,
 "nbformat_minor": 5
}
